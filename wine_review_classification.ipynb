{
 "cells": [
  {
   "cell_type": "code",
   "execution_count": 1,
   "metadata": {},
   "outputs": [],
   "source": [
    "import numpy as np\n",
    "import pandas as pd\n",
    "import matplotlib.pyplot as plt\n",
    "\n",
    "import tensorflow as tf\n",
    "import tensorflow_hub as hub\n",
    "from sklearn.model_selection import train_test_split"
   ]
  },
  {
   "cell_type": "code",
   "execution_count": 2,
   "metadata": {},
   "outputs": [],
   "source": [
    "df = pd.read_csv('wine-reviews.csv', usecols=['country', 'description', 'points', 'price', 'variety', 'winery'])"
   ]
  },
  {
   "cell_type": "code",
   "execution_count": 3,
   "metadata": {},
   "outputs": [
    {
     "data": {
      "text/html": [
       "<div>\n",
       "<style scoped>\n",
       "    .dataframe tbody tr th:only-of-type {\n",
       "        vertical-align: middle;\n",
       "    }\n",
       "\n",
       "    .dataframe tbody tr th {\n",
       "        vertical-align: top;\n",
       "    }\n",
       "\n",
       "    .dataframe thead th {\n",
       "        text-align: right;\n",
       "    }\n",
       "</style>\n",
       "<table border=\"1\" class=\"dataframe\">\n",
       "  <thead>\n",
       "    <tr style=\"text-align: right;\">\n",
       "      <th></th>\n",
       "      <th>country</th>\n",
       "      <th>description</th>\n",
       "      <th>points</th>\n",
       "      <th>price</th>\n",
       "      <th>variety</th>\n",
       "      <th>winery</th>\n",
       "    </tr>\n",
       "  </thead>\n",
       "  <tbody>\n",
       "    <tr>\n",
       "      <th>0</th>\n",
       "      <td>Italy</td>\n",
       "      <td>Aromas include tropical fruit, broom, brimston...</td>\n",
       "      <td>87</td>\n",
       "      <td>NaN</td>\n",
       "      <td>White Blend</td>\n",
       "      <td>Nicosia</td>\n",
       "    </tr>\n",
       "    <tr>\n",
       "      <th>1</th>\n",
       "      <td>Portugal</td>\n",
       "      <td>This is ripe and fruity, a wine that is smooth...</td>\n",
       "      <td>87</td>\n",
       "      <td>15.0</td>\n",
       "      <td>Portuguese Red</td>\n",
       "      <td>Quinta dos Avidagos</td>\n",
       "    </tr>\n",
       "    <tr>\n",
       "      <th>2</th>\n",
       "      <td>US</td>\n",
       "      <td>Tart and snappy, the flavors of lime flesh and...</td>\n",
       "      <td>87</td>\n",
       "      <td>14.0</td>\n",
       "      <td>Pinot Gris</td>\n",
       "      <td>Rainstorm</td>\n",
       "    </tr>\n",
       "    <tr>\n",
       "      <th>3</th>\n",
       "      <td>US</td>\n",
       "      <td>Pineapple rind, lemon pith and orange blossom ...</td>\n",
       "      <td>87</td>\n",
       "      <td>13.0</td>\n",
       "      <td>Riesling</td>\n",
       "      <td>St. Julian</td>\n",
       "    </tr>\n",
       "    <tr>\n",
       "      <th>4</th>\n",
       "      <td>US</td>\n",
       "      <td>Much like the regular bottling from 2012, this...</td>\n",
       "      <td>87</td>\n",
       "      <td>65.0</td>\n",
       "      <td>Pinot Noir</td>\n",
       "      <td>Sweet Cheeks</td>\n",
       "    </tr>\n",
       "  </tbody>\n",
       "</table>\n",
       "</div>"
      ],
      "text/plain": [
       "    country                                        description  points  price  \\\n",
       "0     Italy  Aromas include tropical fruit, broom, brimston...      87    NaN   \n",
       "1  Portugal  This is ripe and fruity, a wine that is smooth...      87   15.0   \n",
       "2        US  Tart and snappy, the flavors of lime flesh and...      87   14.0   \n",
       "3        US  Pineapple rind, lemon pith and orange blossom ...      87   13.0   \n",
       "4        US  Much like the regular bottling from 2012, this...      87   65.0   \n",
       "\n",
       "          variety               winery  \n",
       "0     White Blend              Nicosia  \n",
       "1  Portuguese Red  Quinta dos Avidagos  \n",
       "2      Pinot Gris            Rainstorm  \n",
       "3        Riesling           St. Julian  \n",
       "4      Pinot Noir         Sweet Cheeks  "
      ]
     },
     "execution_count": 3,
     "metadata": {},
     "output_type": "execute_result"
    }
   ],
   "source": [
    "df.head()"
   ]
  },
  {
   "cell_type": "code",
   "execution_count": 4,
   "metadata": {},
   "outputs": [],
   "source": [
    "df = df.dropna(subset=['description', 'points'])"
   ]
  },
  {
   "cell_type": "code",
   "execution_count": 5,
   "metadata": {},
   "outputs": [
    {
     "data": {
      "text/html": [
       "<div>\n",
       "<style scoped>\n",
       "    .dataframe tbody tr th:only-of-type {\n",
       "        vertical-align: middle;\n",
       "    }\n",
       "\n",
       "    .dataframe tbody tr th {\n",
       "        vertical-align: top;\n",
       "    }\n",
       "\n",
       "    .dataframe thead th {\n",
       "        text-align: right;\n",
       "    }\n",
       "</style>\n",
       "<table border=\"1\" class=\"dataframe\">\n",
       "  <thead>\n",
       "    <tr style=\"text-align: right;\">\n",
       "      <th></th>\n",
       "      <th>country</th>\n",
       "      <th>description</th>\n",
       "      <th>points</th>\n",
       "      <th>price</th>\n",
       "      <th>variety</th>\n",
       "      <th>winery</th>\n",
       "    </tr>\n",
       "  </thead>\n",
       "  <tbody>\n",
       "    <tr>\n",
       "      <th>0</th>\n",
       "      <td>Italy</td>\n",
       "      <td>Aromas include tropical fruit, broom, brimston...</td>\n",
       "      <td>87</td>\n",
       "      <td>NaN</td>\n",
       "      <td>White Blend</td>\n",
       "      <td>Nicosia</td>\n",
       "    </tr>\n",
       "    <tr>\n",
       "      <th>1</th>\n",
       "      <td>Portugal</td>\n",
       "      <td>This is ripe and fruity, a wine that is smooth...</td>\n",
       "      <td>87</td>\n",
       "      <td>15.0</td>\n",
       "      <td>Portuguese Red</td>\n",
       "      <td>Quinta dos Avidagos</td>\n",
       "    </tr>\n",
       "    <tr>\n",
       "      <th>2</th>\n",
       "      <td>US</td>\n",
       "      <td>Tart and snappy, the flavors of lime flesh and...</td>\n",
       "      <td>87</td>\n",
       "      <td>14.0</td>\n",
       "      <td>Pinot Gris</td>\n",
       "      <td>Rainstorm</td>\n",
       "    </tr>\n",
       "    <tr>\n",
       "      <th>3</th>\n",
       "      <td>US</td>\n",
       "      <td>Pineapple rind, lemon pith and orange blossom ...</td>\n",
       "      <td>87</td>\n",
       "      <td>13.0</td>\n",
       "      <td>Riesling</td>\n",
       "      <td>St. Julian</td>\n",
       "    </tr>\n",
       "    <tr>\n",
       "      <th>4</th>\n",
       "      <td>US</td>\n",
       "      <td>Much like the regular bottling from 2012, this...</td>\n",
       "      <td>87</td>\n",
       "      <td>65.0</td>\n",
       "      <td>Pinot Noir</td>\n",
       "      <td>Sweet Cheeks</td>\n",
       "    </tr>\n",
       "  </tbody>\n",
       "</table>\n",
       "</div>"
      ],
      "text/plain": [
       "    country                                        description  points  price  \\\n",
       "0     Italy  Aromas include tropical fruit, broom, brimston...      87    NaN   \n",
       "1  Portugal  This is ripe and fruity, a wine that is smooth...      87   15.0   \n",
       "2        US  Tart and snappy, the flavors of lime flesh and...      87   14.0   \n",
       "3        US  Pineapple rind, lemon pith and orange blossom ...      87   13.0   \n",
       "4        US  Much like the regular bottling from 2012, this...      87   65.0   \n",
       "\n",
       "          variety               winery  \n",
       "0     White Blend              Nicosia  \n",
       "1  Portuguese Red  Quinta dos Avidagos  \n",
       "2      Pinot Gris            Rainstorm  \n",
       "3        Riesling           St. Julian  \n",
       "4      Pinot Noir         Sweet Cheeks  "
      ]
     },
     "execution_count": 5,
     "metadata": {},
     "output_type": "execute_result"
    }
   ],
   "source": [
    "df.head()\n"
   ]
  },
  {
   "cell_type": "code",
   "execution_count": 6,
   "metadata": {},
   "outputs": [
    {
     "data": {
      "text/plain": [
       "(array([  397.,   692.,  1836.,  3025.,  6480.,  9530., 12600., 16933.,\n",
       "        17207., 12226., 15410., 11359.,  9613.,  6489.,  3758.,  1535.,\n",
       "          523.,   229.,    77.,    52.]),\n",
       " array([ 80.,  81.,  82.,  83.,  84.,  85.,  86.,  87.,  88.,  89.,  90.,\n",
       "         91.,  92.,  93.,  94.,  95.,  96.,  97.,  98.,  99., 100.]),\n",
       " <BarContainer object of 20 artists>)"
      ]
     },
     "execution_count": 6,
     "metadata": {},
     "output_type": "execute_result"
    },
    {
     "data": {
      "image/png": "[encoded data removed]",
      "text/plain": [
       "<Figure size 640x480 with 1 Axes>"
      ]
     },
     "metadata": {},
     "output_type": "display_data"
    }
   ],
   "source": [
    "plt.hist(df.points, bins=20)"
   ]
  },
  {
   "cell_type": "code",
   "execution_count": 7,
   "metadata": {},
   "outputs": [],
   "source": [
    "df['label'] = (df.points >= 90).astype(int)\n",
    "df = df[['description', 'label']]"
   ]
  },
  {
   "cell_type": "code",
   "execution_count": 8,
   "metadata": {},
   "outputs": [
    {
     "data": {
      "text/html": [
       "<div>\n",
       "<style scoped>\n",
       "    .dataframe tbody tr th:only-of-type {\n",
       "        vertical-align: middle;\n",
       "    }\n",
       "\n",
       "    .dataframe tbody tr th {\n",
       "        vertical-align: top;\n",
       "    }\n",
       "\n",
       "    .dataframe thead th {\n",
       "        text-align: right;\n",
       "    }\n",
       "</style>\n",
       "<table border=\"1\" class=\"dataframe\">\n",
       "  <thead>\n",
       "    <tr style=\"text-align: right;\">\n",
       "      <th></th>\n",
       "      <th>description</th>\n",
       "      <th>label</th>\n",
       "    </tr>\n",
       "  </thead>\n",
       "  <tbody>\n",
       "    <tr>\n",
       "      <th>0</th>\n",
       "      <td>Aromas include tropical fruit, broom, brimston...</td>\n",
       "      <td>0</td>\n",
       "    </tr>\n",
       "    <tr>\n",
       "      <th>1</th>\n",
       "      <td>This is ripe and fruity, a wine that is smooth...</td>\n",
       "      <td>0</td>\n",
       "    </tr>\n",
       "    <tr>\n",
       "      <th>2</th>\n",
       "      <td>Tart and snappy, the flavors of lime flesh and...</td>\n",
       "      <td>0</td>\n",
       "    </tr>\n",
       "    <tr>\n",
       "      <th>3</th>\n",
       "      <td>Pineapple rind, lemon pith and orange blossom ...</td>\n",
       "      <td>0</td>\n",
       "    </tr>\n",
       "    <tr>\n",
       "      <th>4</th>\n",
       "      <td>Much like the regular bottling from 2012, this...</td>\n",
       "      <td>0</td>\n",
       "    </tr>\n",
       "  </tbody>\n",
       "</table>\n",
       "</div>"
      ],
      "text/plain": [
       "                                         description  label\n",
       "0  Aromas include tropical fruit, broom, brimston...      0\n",
       "1  This is ripe and fruity, a wine that is smooth...      0\n",
       "2  Tart and snappy, the flavors of lime flesh and...      0\n",
       "3  Pineapple rind, lemon pith and orange blossom ...      0\n",
       "4  Much like the regular bottling from 2012, this...      0"
      ]
     },
     "execution_count": 8,
     "metadata": {},
     "output_type": "execute_result"
    }
   ],
   "source": [
    "df.head()   "
   ]
  },
  {
   "cell_type": "code",
   "execution_count": 9,
   "metadata": {},
   "outputs": [],
   "source": [
    "train, temp = train_test_split(df, test_size=0.2)"
   ]
  },
  {
   "cell_type": "code",
   "execution_count": 10,
   "metadata": {},
   "outputs": [],
   "source": [
    "test, val = train_test_split(temp, test_size=0.5)"
   ]
  },
  {
   "cell_type": "code",
   "execution_count": 11,
   "metadata": {},
   "outputs": [
    {
     "data": {
      "text/plain": [
       "(103976, 12998, 12997)"
      ]
     },
     "execution_count": 11,
     "metadata": {},
     "output_type": "execute_result"
    }
   ],
   "source": [
    "len(train), len(val), len(test)"
   ]
  },
  {
   "cell_type": "code",
   "execution_count": 12,
   "metadata": {},
   "outputs": [],
   "source": [
    "def df_to_dataset(dataframe, shuffle=True, batch_size=1024):\n",
    "      df = dataframe.copy()\n",
    "      labels = df.pop('label')\n",
    "      df = df['description']\n",
    "      ds = tf.data.Dataset.from_tensor_slices((df, labels))\n",
    "      if shuffle:\n",
    "            ds = ds.shuffle(buffer_size=len(dataframe))\n",
    "      ds = ds.batch(batch_size)\n",
    "      ds = ds.prefetch(tf.data.AUTOTUNE)\n",
    "      return ds"
   ]
  },
  {
   "cell_type": "code",
   "execution_count": 13,
   "metadata": {},
   "outputs": [],
   "source": [
    "train_ds = df_to_dataset(train)\n",
    "val_ds = df_to_dataset(val)\n",
    "test_ds = df_to_dataset(test)"
   ]
  },
  {
   "cell_type": "code",
   "execution_count": 14,
   "metadata": {},
   "outputs": [
    {
     "data": {
      "text/plain": [
       "(<tf.Tensor: shape=(1024,), dtype=string, numpy=\n",
       " array([b\"After spending 18 months in oak, this wine has emerged toasty and vanilla-laden. That said, there's some impressive fruit underneath, medium-bodied and crisp, with undertones of raspberries and red currants that linger on the concentrated finish. Drink 2020\\xe2\\x80\\x932030.\",\n",
       "        b'Some reduction still swings on the nose in the form of flinty smokiness, once this wears off, pure, taut, zesty lemon comes to the fore and remains the central feature of this streamlined, slender wine. There is midpalate texture and whistle-clean length.',\n",
       "        b'Veteran winery Taft Street has crafted a gentle, easy-drinking Pinot from the cool Sonoma Coast appellation. The wine is pale in color, dry and crisp, with a silky texture, and has nice varietal flavors of cola, cherries and smoke.',\n",
       "        ...,\n",
       "        b'The best thing about this Chardonnay is the acidity. It provides a crisp counterpoint to the fruit and oak, which combine to flood the mouth with vanilla, buttered toast, honey, Meyer lemon, pineapple and nectarine flavors. Great to drink now with elaborate scallop and crab dishes.',\n",
       "        b'This wine was fermented half in stainless steel and half in neutral oak, and did not undergo malolactic fermentation. The result is a textured, rich explosion of honeysuckle, spice and lemon zest flavors that finishes with a minerally, flinty character.',\n",
       "        b'Powerful fruit flavors and a firm, high-octane feeling on the palate make this a big, imposing wine. It offers tasty, ripe boysenberry-jam flavors, moderate tannins and a lip-smacking finish.'],\n",
       "       dtype=object)>,\n",
       " <tf.Tensor: shape=(1024,), dtype=int32, numpy=array([1, 1, 0, ..., 0, 0, 0])>)"
      ]
     },
     "execution_count": 14,
     "metadata": {},
     "output_type": "execute_result"
    }
   ],
   "source": [
    "list(train_ds)[0]"
   ]
  },
  {
   "cell_type": "code",
   "execution_count": 15,
   "metadata": {},
   "outputs": [],
   "source": [
    "embedding = \"https://tfhub.dev/google/nnlm-en-dim50/2\"\n",
    "hub_layer = hub.KerasLayer(embedding, dtype=tf.string, trainable=True)"
   ]
  },
  {
   "cell_type": "code",
   "execution_count": 16,
   "metadata": {},
   "outputs": [
    {
     "data": {
      "text/plain": [
       "<tf.Tensor: shape=(3, 50), dtype=float32, numpy=\n",
       "array([[ 3.21447015e-01, -1.80152282e-01, -1.94258511e-01,\n",
       "         2.13965684e-01, -2.10974231e-01, -3.14797342e-01,\n",
       "        -1.81947589e-01,  3.17180932e-01, -5.84535062e-01,\n",
       "         9.00437981e-02,  3.96983102e-02, -1.26470342e-01,\n",
       "        -2.55498409e-01,  1.26831949e-01, -7.78800026e-02,\n",
       "        -3.19013447e-01,  1.80017322e-01,  2.25297078e-01,\n",
       "         7.23853882e-04, -5.33049822e-01, -1.55972555e-01,\n",
       "        -2.52379954e-01,  4.35911089e-01,  1.39583215e-01,\n",
       "        -7.63276100e-01, -8.14765096e-02,  1.89023092e-02,\n",
       "         3.89545530e-01, -4.67565693e-02, -2.27834851e-01,\n",
       "         3.51974368e-01,  1.92898914e-01,  2.31343135e-01,\n",
       "        -2.38279834e-01, -5.41042760e-02,  2.71698445e-01,\n",
       "        -9.77688506e-02,  3.08580160e-01,  1.73699260e-01,\n",
       "        -3.29668462e-01, -3.04863453e-01,  3.74497682e-01,\n",
       "         3.98059003e-02,  6.69932663e-02,  2.04935461e-01,\n",
       "         3.58649969e-01, -1.46022514e-01, -1.94343731e-01,\n",
       "        -9.89483073e-02,  2.30387315e-01],\n",
       "       [ 5.28903782e-01, -3.76583070e-01, -3.82778980e-02,\n",
       "         6.70737401e-02,  1.41424034e-02, -4.76426989e-01,\n",
       "        -2.70017117e-01,  1.79465324e-01, -3.11928421e-01,\n",
       "        -3.03467251e-02, -5.75651526e-02,  5.57580851e-02,\n",
       "        -4.24108565e-01,  2.94089913e-02,  1.69879243e-01,\n",
       "        -2.50414252e-01,  4.82630134e-01,  3.49421591e-01,\n",
       "        -5.75007545e-03, -3.08043480e-01, -2.11941332e-01,\n",
       "        -4.71025646e-01,  9.26102623e-02,  3.63789141e-01,\n",
       "        -3.79734159e-01,  5.73719246e-03,  3.41882147e-02,\n",
       "         1.20189212e-01, -7.48198628e-02, -3.89352813e-02,\n",
       "         1.41911715e-01,  1.46451503e-01,  1.73124418e-01,\n",
       "        -4.19774026e-01, -1.76842690e-01,  1.85394958e-01,\n",
       "        -1.03438742e-01,  3.03121477e-01,  6.30185381e-03,\n",
       "        -3.94483596e-01, -3.17957699e-02, -1.01453729e-01,\n",
       "         3.56457457e-02,  3.92694101e-02, -1.71511576e-01,\n",
       "        -2.35819817e-02,  1.14801489e-01,  1.47256821e-01,\n",
       "        -1.07921734e-01,  1.73458830e-01],\n",
       "       [ 4.32984024e-01, -9.97399762e-02,  1.99375525e-01,\n",
       "         7.01185912e-02, -9.05822441e-02, -4.92721617e-01,\n",
       "        -1.00882702e-01,  3.42380494e-01, -5.07898211e-01,\n",
       "         3.51573765e-01,  2.35560238e-01, -8.82003605e-02,\n",
       "         1.62255596e-02,  9.97761916e-03,  1.42834365e-01,\n",
       "        -2.93728292e-01,  8.79508350e-03,  1.20684259e-01,\n",
       "         7.32631534e-02, -7.21428931e-01, -2.44090900e-01,\n",
       "        -4.01109934e-01,  1.82170182e-01,  2.22930118e-01,\n",
       "        -3.07019413e-01,  6.02754168e-02, -1.32940024e-01,\n",
       "         2.51627952e-01, -1.61559835e-01, -2.85796911e-01,\n",
       "         2.21771859e-02,  5.57369947e-01,  2.94821829e-01,\n",
       "        -3.63650650e-01,  4.69555426e-03,  2.26559818e-01,\n",
       "         4.90295924e-02,  6.00831434e-02,  1.03290938e-01,\n",
       "        -4.83238190e-01,  6.94619939e-02,  8.07977468e-02,\n",
       "        -1.73011437e-01, -5.21559641e-02,  5.68345003e-02,\n",
       "        -3.54708791e-01, -1.29588813e-01, -4.44760174e-02,\n",
       "         1.14817515e-01,  1.62702903e-01]], dtype=float32)>"
      ]
     },
     "execution_count": 16,
     "metadata": {},
     "output_type": "execute_result"
    }
   ],
   "source": [
    "hub_layer(train.description[:3])"
   ]
  },
  {
   "cell_type": "code",
   "execution_count": 20,
   "metadata": {},
   "outputs": [],
   "source": [
    "model = tf.keras.Sequential()\n",
    "model.add(hub_layer)\n",
    "model.add(tf.keras.layers.Dense(16, activation='relu'))\n",
    "model.add(tf.keras.layers.Dropout(0.4))\n",
    "model.add(tf.keras.layers.Dense(16, activation='relu'))\n",
    "model.add(tf.keras.layers.Dropout(0.4))\n",
    "model.add(tf.keras.layers.Dense(1, activation='sigmoid'))"
   ]
  },
  {
   "cell_type": "code",
   "execution_count": 21,
   "metadata": {},
   "outputs": [],
   "source": [
    "model.compile(tf.keras.optimizers.Adam(learning_rate=0.001), loss='binary_crossentropy', metrics=['accuracy'])"
   ]
  },
  {
   "cell_type": "code",
   "execution_count": 22,
   "metadata": {},
   "outputs": [
    {
     "name": "stdout",
     "output_type": "stream",
     "text": [
      "Epoch 1/5\n"
     ]
    },
    {
     "name": "stdout",
     "output_type": "stream",
     "text": [
      "102/102 [==============================] - 146s 1s/step - loss: 0.5997 - accuracy: 0.6736 - val_loss: 0.4352 - val_accuracy: 0.8224\n",
      "Epoch 2/5\n",
      "102/102 [==============================] - 129s 1s/step - loss: 0.4133 - accuracy: 0.8318 - val_loss: 0.3700 - val_accuracy: 0.8357\n",
      "Epoch 3/5\n",
      "102/102 [==============================] - 129s 1s/step - loss: 0.3498 - accuracy: 0.8617 - val_loss: 0.3697 - val_accuracy: 0.8344\n",
      "Epoch 4/5\n",
      "102/102 [==============================] - 127s 1s/step - loss: 0.3208 - accuracy: 0.8746 - val_loss: 0.3775 - val_accuracy: 0.8350\n",
      "Epoch 5/5\n",
      "102/102 [==============================] - 127s 1s/step - loss: 0.3015 - accuracy: 0.8811 - val_loss: 0.3879 - val_accuracy: 0.8352\n"
     ]
    }
   ],
   "source": [
    "history = model.fit(train_ds, validation_data=val_ds, epochs=5)"
   ]
  },
  {
   "cell_type": "code",
   "execution_count": 23,
   "metadata": {},
   "outputs": [
    {
     "name": "stdout",
     "output_type": "stream",
     "text": [
      "13/13 [==============================] - 3s 183ms/step - loss: 0.4130 - accuracy: 0.8221\n"
     ]
    },
    {
     "data": {
      "text/plain": [
       "[0.412952184677124, 0.8221127986907959]"
      ]
     },
     "execution_count": 23,
     "metadata": {},
     "output_type": "execute_result"
    }
   ],
   "source": [
    "model.evaluate(test_ds)"
   ]
  },
  {
   "cell_type": "code",
   "execution_count": null,
   "metadata": {},
   "outputs": [],
   "source": []
  }
 ],
 "metadata": {
  "kernelspec": {
   "display_name": "ml",
   "language": "python",
   "name": "python3"
  },
  "language_info": {
   "codemirror_mode": {
    "name": "ipython",
    "version": 3
   },
   "file_extension": ".py",
   "mimetype": "text/x-python",
   "name": "python",
   "nbconvert_exporter": "python",
   "pygments_lexer": "ipython3",
   "version": "3.11.4"
  }
 },
 "nbformat": 4,
 "nbformat_minor": 2
}
